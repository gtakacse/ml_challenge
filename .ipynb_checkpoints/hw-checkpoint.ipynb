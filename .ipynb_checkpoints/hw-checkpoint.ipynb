{
 "cells": [
  {
   "cell_type": "code",
   "execution_count": 2,
   "metadata": {},
   "outputs": [
    {
     "name": "stdout",
     "output_type": "stream",
     "text": [
      "Train set:  (1367, 4)\n",
      "Test set:  (586, 4)\n",
      "Recall: 0.7313915857605178\n"
     ]
    }
   ],
   "source": [
    "import numpy as np\n",
    "import random\n",
    "import csv\n",
    "\n",
    "data = []\n",
    "\n",
    "# Betöltés\n",
    "with open('data.csv','r') as f:\n",
    "    csvreader = csv.DictReader(f)\n",
    "    for item in csvreader:\n",
    "        data.append([ item['DATE'], item['AUTHOR'], item['CONTENT'], item['CLASS'] ])\n",
    "\n",
    "# A 'data' tömb elemei: ['dátum string', 'szerző', 'komment', 'osztály cimke ('0': nem spam, '1': spam)']\n",
    "        \n",
    "# Train/test szétválasztás\n",
    "split = 0.7\n",
    "data = np.asarray(data)\n",
    "perm = np.random.permutation(len(data))\n",
    "\n",
    "train = data[perm][0:int(len(data)*split)]\n",
    "test = data[perm][int(len(data)*split):]\n",
    "\n",
    "print('Train set: ', np.shape(train))\n",
    "print('Test set: ', np.shape(test))\n",
    "\n",
    "# Buta osztályozó\n",
    "def dumb_classify(data):\n",
    "    threshold = 0.3\n",
    "    if random.random() > threshold:\n",
    "        return '1'\n",
    "    else:\n",
    "        return '0'\n",
    "\n",
    "\n",
    "# Használd a 'train' adatokat az osztályozó módszer kidolgozására, a 'test' adatokat kiértékelésére!\n",
    "# Lehetőleg használj gépi tanulást!\n",
    "# Dokumentáld az érdekesnek tartott kísérleteket is!\n",
    "\n",
    "# Példa kiértékelés 'recall' számításával. \n",
    "# Kérdés: Milyen egyéb metrikát használnál kiértékelésre és miért? \n",
    "sum_positive = 0\n",
    "found_positive = 0\n",
    "\n",
    "for datapoint in test:\n",
    "    if datapoint[-1] == '1':\n",
    "        sum_positive += 1\n",
    "        if dumb_classify(datapoint) == '1':\n",
    "            found_positive += 1\n",
    "    \n",
    "print('Recall:', found_positive / sum_positive)"
   ]
  },
  {
   "cell_type": "markdown",
   "metadata": {},
   "source": [
    "## Előfeldolgozás"
   ]
  },
  {
   "cell_type": "code",
   "execution_count": 9,
   "metadata": {},
   "outputs": [
    {
     "data": {
      "text/plain": [
       "array([['', 'Kate Hermamn',\n",
       "        'Terrance. .thank you for serving our country. How do i &quot;like you&quot; or &quot;subscribe&quot;?',\n",
       "        '1'],\n",
       "       ['2014-11-07T12:08:13', 'Uroš Slemenjak',\n",
       "        \"People, here is a new network like FB...you register also free, the  difference is only that you get paid for sharing, commenting and liking  posts and so one...don't waste your time on fb for sharing and not being  paid!! Register here to make also money with your everyday posts!!  https://www.tsu.co/slema13 Wellcome to everyone! ;)\\ufeff\",\n",
       "        '1'],\n",
       "       ['2015-05-06T07:40:02.079000', 'CliP ArT shoW',\n",
       "        'Subscribe and Win a CAP<br />       ☆☆☆☆☆\\ufeff', '1'],\n",
       "       ['2014-11-08T06:36:41', 'hunter braddock',\n",
       "        'For all of the little kidz out there there is Like 7 to 8 Billon people on  earth NOT 7 to 8 MILLON.Get you facts straight before posting comments.\\ufeff',\n",
       "        '0'],\n",
       "       ['', 'Klaudia Marysol', 'Check out this video on YouTube:\\ufeff',\n",
       "        '1'],\n",
       "       ['', 'real money', ' subscribe to my feed', '1'],\n",
       "       ['', 'KOZZI RAP', 'CHECK OUT MY CHANNEL BOYS AND GIRLS ;)', '1']], \n",
       "      dtype='<U1200')"
      ]
     },
     "execution_count": 9,
     "metadata": {},
     "output_type": "execute_result"
    }
   ],
   "source": [
    "train[:7]"
   ]
  },
  {
   "cell_type": "markdown",
   "metadata": {},
   "source": [
    "## Lehetséges változók"
   ]
  },
  {
   "cell_type": "markdown",
   "metadata": {},
   "source": [
    "1. Url link; kulcsszabak *check out, visit, subscribe, follow me, money*\n",
    "2. Nagybetűk, írásjelek pl. felkiáltójelek aránya\n",
    "3. Felhasználó (csak 21 komment van ugyanazon felhasználótól a spamok között) ``np.unique(spams[:, 1])``\n",
    "4. Posztolás ideje"
   ]
  },
  {
   "cell_type": "markdown",
   "metadata": {},
   "source": [
    "## Modellek építése"
   ]
  },
  {
   "cell_type": "markdown",
   "metadata": {},
   "source": [
    "### Osztályok közötti aránytalanság"
   ]
  },
  {
   "cell_type": "code",
   "execution_count": 14,
   "metadata": {},
   "outputs": [
    {
     "data": {
      "text/plain": [
       "1.9697406340057637"
      ]
     },
     "execution_count": 14,
     "metadata": {},
     "output_type": "execute_result"
    }
   ],
   "source": [
    "spams = train[np.where(train == '1')[0]]\n",
    "len(train)/len(spams)"
   ]
  },
  {
   "cell_type": "markdown",
   "metadata": {},
   "source": [
    "Majdnem 2-szer annyi a negatív példa, mint pozitív."
   ]
  },
  {
   "cell_type": "code",
   "execution_count": 13,
   "metadata": {},
   "outputs": [
    {
     "data": {
      "text/plain": [
       "70"
      ]
     },
     "execution_count": 13,
     "metadata": {},
     "output_type": "execute_result"
    }
   ],
   "source": [
    "# egyedi felhasznalonevek szama\n",
    "len(spams) - len(np.unique(spams[:, 1]))"
   ]
  },
  {
   "cell_type": "code",
   "execution_count": null,
   "metadata": {
    "collapsed": true
   },
   "outputs": [],
   "source": []
  }
 ],
 "metadata": {
  "kernelspec": {
   "display_name": "Python 3",
   "language": "python",
   "name": "python3"
  },
  "language_info": {
   "codemirror_mode": {
    "name": "ipython",
    "version": 3
   },
   "file_extension": ".py",
   "mimetype": "text/x-python",
   "name": "python",
   "nbconvert_exporter": "python",
   "pygments_lexer": "ipython3",
   "version": "3.5.2"
  }
 },
 "nbformat": 4,
 "nbformat_minor": 2
}
